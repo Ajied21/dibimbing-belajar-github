{
 "cells": [
  {
   "cell_type": "markdown",
   "metadata": {},
   "source": [
    "Sebelumnya mohon maaf untuk file username.ipynb ini tidak masuk ke screenshot karena saya lupa menambahkan file python atau jupyter untuk membaca file csv ya sesuai Assignment, tapi untuk masalah penggunaan GIT ya saya harap sudah sesuai perintah di Assignment ya ...."
   ]
  },
  {
   "cell_type": "code",
   "execution_count": 1,
   "metadata": {},
   "outputs": [],
   "source": [
    "#module\n",
    "import pandas as pd"
   ]
  },
  {
   "cell_type": "code",
   "execution_count": 4,
   "metadata": {},
   "outputs": [
    {
     "name": "stdout",
     "output_type": "stream",
     "text": [
      "    Username   Identifier First name Last name\n",
      "0   booker12         9012     Rachel    Booker\n",
      "1     grey07         2070      Laura      Grey\n",
      "2  johnson81         4081      Craig   Johnson\n",
      "3  jenkins46         9346       Mary   Jenkins\n",
      "4    smith79         5079      Jamie     Smith\n"
     ]
    }
   ],
   "source": [
    "#membuat peintah membaca data csv dari pandas\n",
    "df = pd.read_csv(\"username.csv\", delimiter= \";\",low_memory= False)\n",
    "\n",
    "#membaca data\n",
    "print(f'{df}')"
   ]
  }
 ],
 "metadata": {
  "kernelspec": {
   "display_name": "Python 3",
   "language": "python",
   "name": "python3"
  },
  "language_info": {
   "codemirror_mode": {
    "name": "ipython",
    "version": 3
   },
   "file_extension": ".py",
   "mimetype": "text/x-python",
   "name": "python",
   "nbconvert_exporter": "python",
   "pygments_lexer": "ipython3",
   "version": "3.12.3"
  }
 },
 "nbformat": 4,
 "nbformat_minor": 2
}
